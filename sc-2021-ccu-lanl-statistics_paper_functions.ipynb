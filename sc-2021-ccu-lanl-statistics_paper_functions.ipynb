{
 "cells": [
  {
   "cell_type": "markdown",
   "id": "formed-stream",
   "metadata": {},
   "source": [
    "# Paper Functions\n",
    "Nathan DeBardeleben, ndebard@lanl.gov, HPC-DES, ~March, 2021\n",
    "\n",
    "These are Python functions which produce the plots for the SC2021 LANL/CCU statistics paper on acceptance testing."
   ]
  },
  {
   "cell_type": "code",
   "execution_count": null,
   "id": "artificial-unemployment",
   "metadata": {},
   "outputs": [],
   "source": [
    "from scipy.stats import poisson\n",
    "from scipy.stats import gamma\n",
    "import numpy as np\n",
    "import matplotlib.pyplot as plt\n",
    "import math\n",
    "from scipy.optimize import fmin\n",
    "from numpy import array\n",
    "import pandas as pd\n",
    "import seaborn as sns\n",
    "from scipy.optimize import minimize"
   ]
  },
  {
   "cell_type": "code",
   "execution_count": null,
   "id": "fuzzy-detroit",
   "metadata": {},
   "outputs": [],
   "source": [
    "def pff_calculator(x, F, pff):\n",
    "    # in R\n",
    "    # abs(1-ppois(q=q,lambda=x)-pff)\n",
    "    return abs(1 - poisson.cdf(F, x) - pff)\n",
    "def one_minus_poisson_cfd(x, F):\n",
    "    return abs(1 - poisson.cdf(F, x))\n",
    "def pfp_calculator(x, F, pfp):\n",
    "    # in R\n",
    "    # abs(ppois(q=q,lambda=x)-pfp)\n",
    "    return abs(poisson.cdf(F, x) - pfp)\n",
    "def poisson_cfd(x, F):\n",
    "    return abs(poisson.cdf(F, x))\n",
    "def two_party_optimization(x, F, factor, pfp, pff):\n",
    "    # in R\n",
    "    # abs(1-ppois(q=quse,lambda=x)-pff) + abs(ppois(q=quse,lambda=fac*x)-pfp)\n",
    "    return ( abs(1 - poisson.cdf(F, x) - pff) + abs(poisson.cdf(F, x * factor) - pfp) )"
   ]
  },
  {
   "cell_type": "markdown",
   "id": "indonesian-diameter",
   "metadata": {},
   "source": [
    "# Plotting Parameters\n",
    "Here we define some parameters for plotting."
   ]
  },
  {
   "cell_type": "markdown",
   "id": "vietnamese-louis",
   "metadata": {},
   "source": [
    "# Parameters of Interest\n",
    "Here we set our initial constraints."
   ]
  },
  {
   "cell_type": "code",
   "execution_count": null,
   "id": "unique-failing",
   "metadata": {},
   "outputs": [],
   "source": [
    "pff = 0.1 # probability of false failure\n",
    "pfp = 0.1 # probability of false pass\n",
    "F = 1 # failures\n",
    "mu = 24 # hours\n",
    "factor = 2"
   ]
  },
  {
   "cell_type": "markdown",
   "id": "middle-playlist",
   "metadata": {},
   "source": [
    "# Probability of False Fail\n",
    "This is related to the vendor (producer) failing a test that they should have passed.  They want to minimize that happening."
   ]
  },
  {
   "cell_type": "markdown",
   "id": "usual-lambda",
   "metadata": {},
   "source": [
    "## Find the Min Theta\n",
    "First, we need to find the min theta for these above constraints."
   ]
  },
  {
   "cell_type": "code",
   "execution_count": null,
   "id": "selected-population",
   "metadata": {},
   "outputs": [],
   "source": [
    "func = pff_calculator\n",
    "ret = fmin(func, F/2, args=(F, pff), xtol = 0.00001, full_output=True)\n",
    "the_min_x = ret[0][0]\n",
    "the_y_val = ret[1]\n",
    "print(f\"The min of function '{func.__name__}' is at {the_min_x} with result {the_y_val}.\")"
   ]
  },
  {
   "cell_type": "markdown",
   "id": "antique-ethiopia",
   "metadata": {},
   "source": [
    "Set up our range of x values, based on what we know the min is - this is just for pretty plotting."
   ]
  },
  {
   "cell_type": "code",
   "execution_count": null,
   "id": "affected-chapel",
   "metadata": {},
   "outputs": [],
   "source": [
    "xmin = 0\n",
    "xmax = math.floor(the_min_x) * 2\n",
    "if xmax < 5:\n",
    "    xmax = 5\n",
    "points = 10000\n",
    "# generate x points\n",
    "xlist = np.linspace(xmin, xmax, points)"
   ]
  },
  {
   "cell_type": "markdown",
   "id": "removed-tiger",
   "metadata": {},
   "source": [
    "### Plot the Min\n",
    "This plots the function and annotates the min"
   ]
  },
  {
   "cell_type": "code",
   "execution_count": null,
   "id": "advanced-leisure",
   "metadata": {},
   "outputs": [],
   "source": [
    "func = pff_calculator\n",
    "\n",
    "# map the x points to the values from the above function\n",
    "ylist = list(map(lambda x: func(x, F=F, pff=pff), xlist))\n",
    "\n",
    "# plot the results, w/ annotations\n",
    "plt.plot(xlist, ylist)\n",
    "\n",
    "# # draw horizontal line at min of function\n",
    "plt.hlines(y=the_y_val, xmin=min(xlist), xmax=max(xlist), color='red', linestyles=\"--\")\n",
    "plt.annotate(f\"function min = {the_y_val:.3f}\", xy=(2, the_y_val + max(ylist) * 0.05), color='red')\n",
    "\n",
    "# draw vertical line at min\n",
    "plt.vlines(x=the_min_x, ymin=min(ylist), ymax=max(ylist), color='green', linestyles='--')\n",
    "plt.annotate(f\"θ = {the_min_x:.3f}\", xy=(the_min_x + max(xlist) * 0.025, 0.5), color='green')\n",
    "\n",
    "# labels and title\n",
    "plt.xlabel(\"θ\")\n",
    "plt.ylabel(f\"{func.__name__} output\")\n",
    "plt.title(f\"Calculating output of {func.__name__} for Varying θ and Fixed F={F}\")\n",
    "plt.savefig(f\"NOT_USED_IN_PAPER_pff_calculator_f{F}_pff{pff}.png\")\n",
    "plt.savefig(f\"NOT_USED_IN_PAPER_pff_calculator_f{F}_pff{pff}.pdf\")"
   ]
  },
  {
   "cell_type": "markdown",
   "id": "heavy-ceramic",
   "metadata": {},
   "source": [
    "### Show the Min With Constraints\n",
    "Going back to our initial distribution, show this point crossing the constraint"
   ]
  },
  {
   "cell_type": "code",
   "execution_count": null,
   "id": "adult-citation",
   "metadata": {},
   "outputs": [],
   "source": [
    "func = one_minus_poisson_cfd\n",
    "\n",
    "# map the x points to the values from the above function\n",
    "ylist = list(map(lambda x: func(x, F), xlist))"
   ]
  },
  {
   "cell_type": "code",
   "execution_count": null,
   "id": "antique-marijuana",
   "metadata": {},
   "outputs": [],
   "source": [
    "df = pd.DataFrame()\n",
    "df['x'] = xlist\n",
    "df['pff'] = ylist\n",
    "df.columns = ['theta', '$P_{FF}$']\n",
    "df.head()"
   ]
  },
  {
   "cell_type": "code",
   "execution_count": null,
   "id": "shaped-delay",
   "metadata": {},
   "outputs": [],
   "source": [
    "fig, ax = plt.subplots(figsize=(6, 4))\n",
    "ax = sns.lineplot(data=df, x='theta', y='$P_{FF}$')\n",
    "ax.axhline(pfp, ls='--', color='green')\n",
    "ax.annotate(text=f\"θ = {the_min_x:.3f}\", \n",
    "            xy=(the_min_x, the_y_val + pfp), \n",
    "            xycoords='data', \n",
    "            xytext=(10, 100), \n",
    "            fontsize=12,\n",
    "            textcoords='offset points',\n",
    "            arrowprops=dict(facecolor='black', shrink=0.1)\n",
    "           )\n",
    "ax.plot([the_min_x],[the_y_val + pfp],'ro', mec='black', color='red', ms=10, linewidth=5)\n",
    "plt.xlabel(\"θ: Multiple of Test Duration, $\\mu$\") # matplotlib doesn't like $\\theta$ for some reason, wtf?\n",
    "plt.ylabel(\"$P_{FF}$: Probability of a False Fail\")\n",
    "plt.title(\"Probability of a False Fail for Varying θ and Fixed F=1\")\n",
    "fn = f\"FIGURE_2_prob_false_fail_{F}_pff{pff}\"\n",
    "plt.savefig(f\"{fn}.pdf\")\n",
    "plt.savefig(f\"{fn}.png\")\n",
    "print(f\"{fn}.png and .pdf created\")"
   ]
  },
  {
   "cell_type": "markdown",
   "id": "metric-liver",
   "metadata": {},
   "source": [
    "## Result\n",
    "These are the end results for this section:"
   ]
  },
  {
   "cell_type": "code",
   "execution_count": null,
   "id": "iraqi-marina",
   "metadata": {},
   "outputs": [],
   "source": [
    "print(f\"The vendor / producer:\\n\" \\\n",
    "      f\"  To minimize false failure, with acceptable probability of false failure = {pff}\\n\" \\\n",
    "      f\"  With mu (MTBF) of {mu} (hours)\\n\" \\\n",
    "      f\"  And testing until <= {F} failures are observed\\n\" \\\n",
    "      f\"  Wants to test for {the_min_x:.3f} * {mu} or {(the_min_x * mu):.3f} hours\")"
   ]
  },
  {
   "cell_type": "markdown",
   "id": "absent-chamber",
   "metadata": {},
   "source": [
    "# Probability of False Pass\n",
    "This is related to the buyer (consumer) failing to reject a system that is actually bad.  They want to minimize that happening."
   ]
  },
  {
   "cell_type": "markdown",
   "id": "little-bathroom",
   "metadata": {},
   "source": [
    "## Find the Min Theta\n",
    "First, we need to find the min theta for these above constraints."
   ]
  },
  {
   "cell_type": "code",
   "execution_count": null,
   "id": "polish-registrar",
   "metadata": {},
   "outputs": [],
   "source": [
    "func = pfp_calculator\n",
    "ret = fmin(func, F/2, args=(F, pfp), xtol = 0.00001, full_output=True)\n",
    "the_min_x = ret[0][0]\n",
    "the_y_val = ret[1]\n",
    "print(f\"The min of function '{func.__name__}' is at {the_min_x} with result {the_y_val}.\")"
   ]
  },
  {
   "cell_type": "markdown",
   "id": "constitutional-saver",
   "metadata": {},
   "source": [
    "Set up our range of x values, based on what we know the min is - this is just for pretty plotting."
   ]
  },
  {
   "cell_type": "code",
   "execution_count": null,
   "id": "protective-agent",
   "metadata": {},
   "outputs": [],
   "source": [
    "xmin = 0\n",
    "xmax = math.floor(the_min_x) * 2\n",
    "if xmax < 5:\n",
    "    xmax = 5\n",
    "points = 10000\n",
    "# generate x points\n",
    "xlist = np.linspace(xmin, xmax, points)"
   ]
  },
  {
   "cell_type": "markdown",
   "id": "activated-laundry",
   "metadata": {},
   "source": [
    "### Plot the Min\n",
    "This plots the function and annotates the min"
   ]
  },
  {
   "cell_type": "code",
   "execution_count": null,
   "id": "compound-garden",
   "metadata": {},
   "outputs": [],
   "source": [
    "func = pfp_calculator\n",
    "\n",
    "# map the x points to the values from the above function\n",
    "ylist = list(map(lambda x: func(x, F=F, pfp=pfp), xlist))\n",
    "\n",
    "# plot the results, w/ annotations\n",
    "plt.plot(xlist, ylist)\n",
    "\n",
    "# # draw horizontal line at min of function\n",
    "plt.hlines(y=the_y_val, xmin=min(xlist), xmax=max(xlist), color='red', linestyles=\"--\")\n",
    "plt.annotate(f\"function min = {the_y_val:.3f}\", xy=(2, the_y_val + max(ylist) * 0.05), color='red')\n",
    "\n",
    "# draw vertical line at min\n",
    "plt.vlines(x=the_min_x, ymin=min(ylist), ymax=max(ylist), color='green', linestyles='--')\n",
    "plt.annotate(f\"θ = {the_min_x:.3f}\", xy=(the_min_x + max(xlist) * 0.025, 0.5), color='green')\n",
    "\n",
    "# labels and title\n",
    "plt.xlabel(\"θ\")\n",
    "plt.ylabel(f\"{func.__name__} output\")\n",
    "plt.title(f\"Calculating output of {func.__name__} for Varying θ and Fixed F={F}\")\n",
    "plt.savefig(f\"NOT_USED_IN_PAPER_pfp_calculator_f{F}_pfp{pfp}.png\")\n",
    "plt.savefig(f\"NOT_USED_IN_PAPER_pfp_calculator_f{F}_pfp{pfp}.pdf\")"
   ]
  },
  {
   "cell_type": "markdown",
   "id": "blocked-tulsa",
   "metadata": {},
   "source": [
    "### Show the Min With Constraints\n",
    "Going back to our initial distribution, show this point crossing the constraint"
   ]
  },
  {
   "cell_type": "code",
   "execution_count": null,
   "id": "three-biography",
   "metadata": {},
   "outputs": [],
   "source": [
    "func = poisson_cfd\n",
    "\n",
    "# map the x points to the values from the above function\n",
    "ylist = list(map(lambda x: func(x, F), xlist))"
   ]
  },
  {
   "cell_type": "code",
   "execution_count": null,
   "id": "gothic-sculpture",
   "metadata": {},
   "outputs": [],
   "source": [
    "df = pd.DataFrame()\n",
    "df['x'] = xlist\n",
    "df['pff'] = ylist\n",
    "df.columns = ['theta', '$P_{FP}$']\n",
    "df.head()"
   ]
  },
  {
   "cell_type": "code",
   "execution_count": null,
   "id": "numeric-boating",
   "metadata": {},
   "outputs": [],
   "source": [
    "fig, ax = plt.subplots(figsize=(6, 4))\n",
    "ax = sns.lineplot(data=df, x='theta', y='$P_{FP}$')\n",
    "ax.axhline(pfp, ls='--', color='green')\n",
    "ax.annotate(text=f\"θ = {the_min_x:.3f}\", \n",
    "            xy=(the_min_x, the_y_val + pfp), \n",
    "            xycoords='data', \n",
    "            xytext=(50, 50), \n",
    "            fontsize=12,\n",
    "            textcoords='offset points',\n",
    "            arrowprops=dict(facecolor='black', shrink=0.1)\n",
    "           )\n",
    "ax.plot([the_min_x],[the_y_val + pfp],'ro', mec='black', color='red', ms=10, linewidth=5)\n",
    "plt.xlabel(\"θ: Multiple of Test Duration, $\\mu$\") # matplotlib doesn't like $\\theta$ for some reason, wtf?\n",
    "plt.ylabel(\"$P_{FP}$: Probability of a False Pass\")\n",
    "plt.title(\"Probability of a False Pass for Varying θ and Fixed F=1\")\n",
    "fn = f\"FIGURE_1_prob_false_pass_{F}_pfp{pfp}\"\n",
    "plt.savefig(f\"{fn}.pdf\")\n",
    "plt.savefig(f\"{fn}.png\")\n",
    "print(f\"{fn}.png and .pdf created\")"
   ]
  },
  {
   "cell_type": "markdown",
   "id": "simplified-channel",
   "metadata": {},
   "source": [
    "## Result\n",
    "These are the end results for this section:"
   ]
  },
  {
   "cell_type": "code",
   "execution_count": null,
   "id": "brief-block",
   "metadata": {},
   "outputs": [],
   "source": [
    "print(f\"The buyer / consumer:\\n\" \\\n",
    "      f\"  To minimize false pass, with acceptable probability of false pass = {pfp}\\n\" \\\n",
    "      f\"  With mu (MTBF) of {mu} (hours)\\n\" \\\n",
    "      f\"  And testing until <= {F} failures are observed\\n\" \\\n",
    "      f\"  Wants to test for {the_min_x:.3f} * {mu} or {(the_min_x * mu):.3f} hours\")"
   ]
  },
  {
   "cell_type": "markdown",
   "id": "regulated-operator",
   "metadata": {},
   "source": [
    "# Constrain PFF and Match PFP with `factor` Tolerance\n",
    "This code locks PFF at the input value and then plots PFP and the intersection of these curves"
   ]
  },
  {
   "cell_type": "code",
   "execution_count": null,
   "id": "inappropriate-increase",
   "metadata": {},
   "outputs": [],
   "source": [
    "# some helper code to find intersection of columns from the dataframe\n",
    "def find_intersection_of_two_curves(x, y1, y2, deg):\n",
    "    y1_fit = np.polyfit(x, y1, deg)\n",
    "    y1_func = np.poly1d(y1_fit)\n",
    "\n",
    "    y2_fit = np.polyfit(x, y2, deg)\n",
    "    y2_func = np.poly1d(y2_fit)\n",
    "\n",
    "    from scipy.optimize import fsolve\n",
    "    def findIntersection(fun1,fun2,x0):\n",
    "        return fsolve(lambda x : fun1(x) - fun2(x), x0)\n",
    "\n",
    "    result = findIntersection(y1_func, y2_func, 0.0)\n",
    "    return (result[0],y1_func(result[0]))"
   ]
  },
  {
   "cell_type": "code",
   "execution_count": null,
   "id": "serial-spider",
   "metadata": {},
   "outputs": [],
   "source": [
    "def constrain_pff_find_pfp(pff, factor, title_prepend):\n",
    "    # generate the dataframe with F, theta, and values of PFF, PFP (where PFP has a `factor` tolerance)\n",
    "    d = dict()\n",
    "    for Ftemp in range(0, 31):\n",
    "        d[Ftemp] = list()\n",
    "        d[Ftemp].append(Ftemp)\n",
    "        res = minimize(fun=pff_calculator, args=(Ftemp, pff), x0=Ftemp/2, tol=0.0000001, method='Nelder-Mead')\n",
    "        d[Ftemp].append(res['x'][0])\n",
    "        d[Ftemp].append(one_minus_poisson_cfd(res['x'][0], Ftemp))\n",
    "        d[Ftemp].append(poisson_cfd(res['x'] * factor, Ftemp)[0])\n",
    "\n",
    "    df = pd.DataFrame.from_dict(d, orient='index', columns=['F','theta','$P_{FF}$','$P_{FP}$'])    \n",
    "    intersection_x,intersection_y = find_intersection_of_two_curves(df['F'].to_numpy(), df['$P_{FF}$'].to_numpy(), df['$P_{FP}$'].to_numpy(), 10)\n",
    "    print(f\"These curves intersect at x={intersection_x}, y={intersection_y}\")\n",
    "    idx = df['F'].sub(intersection_x).abs().idxmin()\n",
    "    theta_at_intersection = df.iloc[idx]['theta']\n",
    "    print(f\"Theta value at this intersection is {theta_at_intersection}\")\n",
    "    \n",
    "    # melt (transform) the dataframe for plotting\n",
    "    df2 = df.melt(id_vars=['F','theta'], var_name='Constraints', value_name='Probability')\n",
    "    \n",
    "    # and plot it\n",
    "    fig, ax = plt.subplots(figsize=(6,4))\n",
    "    ax = sns.lineplot(data=df2, x='F', y='Probability', hue='Constraints')\n",
    "    ax.annotate(text=f\"θ = {theta_at_intersection:.4f}\\nF = {df.iloc[idx]['F']:.0f}\", \n",
    "                xy=(intersection_x, intersection_y), \n",
    "                xycoords='data', \n",
    "                xytext=(50, 50), \n",
    "                fontsize=12,\n",
    "                textcoords='offset points',\n",
    "                arrowprops=dict(facecolor='black', shrink=0.1)\n",
    "               )\n",
    "    ax.plot([intersection_x],[intersection_y],'ro', mec='black', color='red', ms=10, linewidth=5)\n",
    "    plt.xlabel(\"F: # of Allowable Failures During Test\")\n",
    "    plt.title(\"Constraining $P_{FF} = 0.1$, $\\lambda_{bad} = %s\\lambda_{good}$\" % factor)    \n",
    "    fn = f\"{title_prepend}constrained_pff{pff}_W{factor}\"\n",
    "    plt.savefig(f\"{fn}.png\");\n",
    "    plt.savefig(f\"{fn}.pdf\");\n",
    "    print(f\"{fn}.png and .pdf created\")"
   ]
  },
  {
   "cell_type": "code",
   "execution_count": null,
   "id": "outer-palestinian",
   "metadata": {},
   "outputs": [],
   "source": [
    "constrain_pff_find_pfp(pff=0.1, factor=2, title_prepend=\"FIGURE_3_\")"
   ]
  },
  {
   "cell_type": "code",
   "execution_count": null,
   "id": "prescribed-haven",
   "metadata": {
    "tags": []
   },
   "outputs": [],
   "source": [
    "constrain_pff_find_pfp(pff=0.1, factor=5, title_prepend=\"NOT_USED_IN_PAPER_\")"
   ]
  },
  {
   "cell_type": "markdown",
   "id": "decimal-science",
   "metadata": {},
   "source": [
    "# Optimize to Both Parties' Goals\n",
    "The previous section assumed that PFP would be interested in the same goal as PFF, here we allow them to vary"
   ]
  },
  {
   "cell_type": "code",
   "execution_count": null,
   "id": "athletic-biology",
   "metadata": {},
   "outputs": [],
   "source": [
    "def constraint_pff_and_pfp_optimize(pff, pfp, factor, Fmax, degree_poly, title_prepend):\n",
    "    # generate the dataframe with F, theta, and values of PFF, PFP (where PFP has a `factor` tolerance)\n",
    "    d = dict()\n",
    "    for Ftemp in range(0, Fmax):\n",
    "        d[Ftemp] = list()\n",
    "        d[Ftemp].append(Ftemp)\n",
    "        res = minimize(fun=two_party_optimization, args=(Ftemp, factor, pfp, pff), x0=Ftemp/2, tol=0.0000001, method='Nelder-Mead')\n",
    "        d[Ftemp].append(res['x'][0])\n",
    "        d[Ftemp].append(res['fun'])\n",
    "\n",
    "    df = pd.DataFrame.from_dict(d, orient='index', columns=['F','theta','objective_function'])\n",
    "    #display(df)\n",
    "    \n",
    "    obj_fit = np.polyfit(df['F'].to_numpy(), df['objective_function'].to_numpy(), degree_poly)\n",
    "    obj_func = np.poly1d(obj_fit)\n",
    "    min_res = minimize(obj_func, x0=0, method='Nelder-Mead')\n",
    "    min_value = min_res['x'][0]\n",
    "    print(min_value)\n",
    "    idx = df['F'].sub(min_value).abs().idxmin()\n",
    "    theta_at_min = df.iloc[idx]['theta']\n",
    "    f_at_min = df.iloc[idx]['F']\n",
    "    obj_at_min = df.iloc[idx]['objective_function']\n",
    "    print(f\"F value at this min is {f_at_min}\")\n",
    "    print(f\"Theta value at this min is {theta_at_min}\")\n",
    "    print(f\"Objective value at this min is {obj_at_min}\")\n",
    "    \n",
    "    fig, ax = plt.subplots(figsize=(6,4))\n",
    "    ax = sns.lineplot(data=df, x='F', y='objective_function')\n",
    "\n",
    "    ax.annotate(text=f\"θ = {theta_at_min:.4f}\\nF = {f_at_min:.0f}\", \n",
    "                xy=(f_at_min, obj_at_min), \n",
    "                xycoords='data', \n",
    "                xytext=(50, 100), \n",
    "                fontsize=12,\n",
    "                textcoords='offset points',\n",
    "                arrowprops=dict(facecolor='black', shrink=0.1)\n",
    "               )\n",
    "    ax.plot([f_at_min],[obj_at_min],'ro', mec='black', color='red', ms=10, linewidth=5)\n",
    "\n",
    "    #plt.xticks(range(0, Fmax))\n",
    "    plt.ylabel(\"Objective Function\")\n",
    "    plt.xlabel(\"F: # of Allowable Failures During Test\")\n",
    "\n",
    "    plt.title(\"Minimizing the Difference Between Objective Functions\\n$P_{FF}$ = %s, $P_{FP}$ = %s, $\\lambda_{bad} = %s\\lambda_{good}$\" % (pff, pfp, factor));\n",
    "    fn = f\"{title_prepend}two_party_pff{pff}_pfp{pfp}_W{factor}\"\n",
    "    plt.savefig(f\"{fn}.png\");\n",
    "    plt.savefig(f\"{fn}.pdf\");\n",
    "    print(f\"{fn}.png and .pdf created\")"
   ]
  },
  {
   "cell_type": "code",
   "execution_count": null,
   "id": "pediatric-granny",
   "metadata": {
    "tags": []
   },
   "outputs": [],
   "source": [
    "constraint_pff_and_pfp_optimize(pff=0.1, pfp=0.1, factor=2, Fmax=31, degree_poly=10, title_prepend=\"FIGURE_4_\")"
   ]
  },
  {
   "cell_type": "code",
   "execution_count": null,
   "id": "armed-barrel",
   "metadata": {},
   "outputs": [],
   "source": [
    "constraint_pff_and_pfp_optimize(pff=0.1, pfp=0.1, factor=5, Fmax=6, degree_poly=4, title_prepend=\"FIGURE_7_\")"
   ]
  },
  {
   "cell_type": "markdown",
   "id": "duplicate-croatia",
   "metadata": {},
   "source": [
    "# Constraining T"
   ]
  },
  {
   "cell_type": "markdown",
   "id": "funny-holmes",
   "metadata": {},
   "source": [
    "Try and fix T and see if we can optimize"
   ]
  },
  {
   "cell_type": "code",
   "execution_count": null,
   "id": "b073acf2",
   "metadata": {},
   "outputs": [],
   "source": [
    "def constrained_time(T, W, title_prepend):\n",
    "    T_hours = T * 24\n",
    "    # generate the dataframe with F, theta, and values of PFF, PFP (where PFP has a `factor` tolerance)\n",
    "    d = dict()\n",
    "    for Ftemp in range(0, 31):\n",
    "        d[Ftemp] = list()\n",
    "        d[Ftemp].append(Ftemp)\n",
    "        pff = 1 - poisson.cdf(Ftemp, T_hours / 24)\n",
    "        pfp = poisson.cdf(Ftemp, W * T_hours / 24)    \n",
    "        d[Ftemp].append(pff)\n",
    "        d[Ftemp].append(pfp)\n",
    "\n",
    "    df = pd.DataFrame.from_dict(d, orient='index', columns=['F','$P_{FF}$','$P_{FP}$'])\n",
    "    df.head()\n",
    "    df_melted = df.melt(id_vars=['F'])\n",
    "    df_melted.head()\n",
    "    fig, ax = plt.subplots(figsize=(6,4))\n",
    "    ax = sns.lineplot(data=df_melted, x='F', y='value', hue='variable')\n",
    "    plt.ylabel(\"Probability\")\n",
    "    plt.xlabel(\"F: # of Allowable Failures During Test\")\n",
    "    plt.title(\"$P_{FF}$ and $P_{FP}$ for a fixed $\\lambda_{bad} = %s\\lambda_{good}$\\n\" \\\n",
    "              f\"For Fixed Test Duration = {T} days ({T_hours} hours)\" % factor)\n",
    "\n",
    "    plt.savefig(f\"{title_prepend}fixed_time_interval_THours{T_hours}_F{F}_W{factor}.png\");\n",
    "    plt.savefig(f\"{title_prepend}fixed_time_interval_THours{T_hours}_F{F}_W{factor}.pdf\");"
   ]
  },
  {
   "cell_type": "code",
   "execution_count": null,
   "id": "round-ukraine",
   "metadata": {},
   "outputs": [],
   "source": [
    "constrained_time(T=7, W=2, title_prepend=\"FIGURE_5_\")"
   ]
  },
  {
   "cell_type": "code",
   "execution_count": null,
   "id": "searching-retail",
   "metadata": {},
   "outputs": [],
   "source": [
    "constrained_time(T=3, W=2, title_prepend=\"FIGURE_6_\")"
   ]
  },
  {
   "cell_type": "markdown",
   "id": "played-surveillance",
   "metadata": {},
   "source": [
    "# Bayesian"
   ]
  },
  {
   "cell_type": "markdown",
   "id": "resident-hunger",
   "metadata": {},
   "source": [
    "## Confidence Intervals On Determinging MTBF"
   ]
  },
  {
   "cell_type": "markdown",
   "id": "ec767eca",
   "metadata": {},
   "source": [
    "# <font color=red>THIS IS TABLE 2</font>"
   ]
  },
  {
   "cell_type": "code",
   "execution_count": null,
   "id": "subject-grill",
   "metadata": {},
   "outputs": [],
   "source": [
    "def get_gamma_pi_95(alpha_prior, beta_prior, mu, X, T_Days):\n",
    "    alpha_post = alpha_prior + X\n",
    "    beta_post = beta_prior + 1\n",
    "    T_Hours = T_Days * 24\n",
    "    dist = gamma(alpha_post, scale=1.0/beta_post)\n",
    "    # can do this if you want to sample it, without analytical results\n",
    "    #random_variables = T_Hours / (dist.rvs(size=pow(10,7))) # pull 10^7 random variables\n",
    "    #np.count_nonzero(random_variables > mu) / len(random_variables))))\n",
    "    \n",
    "    # PI and posterior prob that measured mu >= mu\n",
    "    return (tuple((T_Hours / dist.ppf(0.975),\n",
    "                   T_Hours / dist.ppf(0.025),\n",
    "                   dist.cdf(T_Hours / mu))))"
   ]
  },
  {
   "cell_type": "code",
   "execution_count": null,
   "id": "experimental-cookbook",
   "metadata": {},
   "outputs": [],
   "source": [
    "mu = 24\n",
    "T_Days = 7\n",
    "alpha_prior = pow(10, -6)\n",
    "beta_prior = pow(10, -4)"
   ]
  },
  {
   "cell_type": "code",
   "execution_count": null,
   "id": "choice-baseball",
   "metadata": {},
   "outputs": [],
   "source": [
    "get_gamma_pi_95(alpha_prior, beta_prior, mu, 1, 7)"
   ]
  },
  {
   "cell_type": "code",
   "execution_count": null,
   "id": "lyric-questionnaire",
   "metadata": {},
   "outputs": [],
   "source": [
    "get_gamma_pi_95(alpha_prior, beta_prior, mu, 2, 7)"
   ]
  },
  {
   "cell_type": "code",
   "execution_count": null,
   "id": "gross-tobago",
   "metadata": {},
   "outputs": [],
   "source": [
    "get_gamma_pi_95(alpha_prior, beta_prior, mu, 3, 7)"
   ]
  },
  {
   "cell_type": "code",
   "execution_count": null,
   "id": "opening-serum",
   "metadata": {},
   "outputs": [],
   "source": [
    "get_gamma_pi_95(alpha_prior, beta_prior, mu, 4, 7)"
   ]
  },
  {
   "cell_type": "code",
   "execution_count": null,
   "id": "boolean-robertson",
   "metadata": {},
   "outputs": [],
   "source": [
    "get_gamma_pi_95(alpha_prior, beta_prior, mu, 5, 7)"
   ]
  },
  {
   "cell_type": "code",
   "execution_count": null,
   "id": "proprietary-brunei",
   "metadata": {},
   "outputs": [],
   "source": [
    "get_gamma_pi_95(alpha_prior, beta_prior, mu, 6, 7)"
   ]
  },
  {
   "cell_type": "code",
   "execution_count": null,
   "id": "prospective-catalyst",
   "metadata": {},
   "outputs": [],
   "source": [
    "get_gamma_pi_95(alpha_prior, beta_prior, mu, 7, 7)"
   ]
  },
  {
   "cell_type": "code",
   "execution_count": null,
   "id": "visible-blackberry",
   "metadata": {},
   "outputs": [],
   "source": [
    "get_gamma_pi_95(alpha_prior, beta_prior, mu, 8, 7)"
   ]
  },
  {
   "cell_type": "code",
   "execution_count": null,
   "id": "apart-singer",
   "metadata": {},
   "outputs": [],
   "source": [
    "get_gamma_pi_95(alpha_prior, beta_prior, mu, 9, 7)"
   ]
  },
  {
   "cell_type": "code",
   "execution_count": null,
   "id": "facial-cooking",
   "metadata": {},
   "outputs": [],
   "source": [
    "get_gamma_pi_95(alpha_prior, beta_prior, mu, 10, 7)"
   ]
  },
  {
   "cell_type": "code",
   "execution_count": null,
   "id": "instant-cisco",
   "metadata": {},
   "outputs": [],
   "source": []
  }
 ],
 "metadata": {
  "kernelspec": {
   "display_name": "sc-2021-ccu-lanl-statistics",
   "language": "python",
   "name": "sc-2021-ccu-lanl-statistics"
  },
  "language_info": {
   "codemirror_mode": {
    "name": "ipython",
    "version": 3
   },
   "file_extension": ".py",
   "mimetype": "text/x-python",
   "name": "python",
   "nbconvert_exporter": "python",
   "pygments_lexer": "ipython3",
   "version": "3.6.5"
  }
 },
 "nbformat": 4,
 "nbformat_minor": 5
}
